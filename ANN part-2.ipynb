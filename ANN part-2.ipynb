{
 "cells": [
  {
   "cell_type": "code",
   "execution_count": 1,
   "id": "forbidden-model",
   "metadata": {},
   "outputs": [],
   "source": [
    "import numpy as np\n",
    "import pandas as pd\n",
    "import matplotlib.pyplot as plt\n"
   ]
  },
  {
   "cell_type": "code",
   "execution_count": 2,
   "id": "analyzed-invention",
   "metadata": {},
   "outputs": [],
   "source": [
    "import tensorflow as tf\n",
    "from tensorflow import keras\n"
   ]
  },
  {
   "cell_type": "code",
   "execution_count": 3,
   "id": "searching-armstrong",
   "metadata": {},
   "outputs": [],
   "source": [
    "from sklearn.datasets import fetch_california_housing\n",
    "housing = fetch_california_housing()"
   ]
  },
  {
   "cell_type": "code",
   "execution_count": 4,
   "id": "light-girlfriend",
   "metadata": {},
   "outputs": [
    {
     "name": "stdout",
     "output_type": "stream",
     "text": [
      "['MedInc', 'HouseAge', 'AveRooms', 'AveBedrms', 'Population', 'AveOccup', 'Latitude', 'Longitude']\n"
     ]
    }
   ],
   "source": [
    "print(housing.feature_names)"
   ]
  },
  {
   "cell_type": "code",
   "execution_count": 5,
   "id": "crude-transparency",
   "metadata": {},
   "outputs": [],
   "source": [
    "from sklearn.model_selection import train_test_split\n",
    "X_train_full , X_test , y_train_full , y_test = train_test_split(housing.data , housing.target , random_state=42)\n",
    "X_train , X_valid , y_train , y_valid = train_test_split(X_train_full , y_train_full , random_state=42)"
   ]
  },
  {
   "cell_type": "code",
   "execution_count": 6,
   "id": "portable-election",
   "metadata": {},
   "outputs": [],
   "source": [
    "from sklearn.preprocessing import StandardScaler\n",
    "scaler = StandardScaler()\n",
    "X_train=scaler.fit_transform(X_train)\n",
    "X_valid=scaler.transform(X_valid)\n",
    "X_test=scaler.transform(X_test)"
   ]
  },
  {
   "cell_type": "code",
   "execution_count": 7,
   "id": "electronic-hartford",
   "metadata": {},
   "outputs": [],
   "source": [
    "np.random.seed(42)\n",
    "tf.random.set_seed(42)"
   ]
  },
  {
   "cell_type": "code",
   "execution_count": 8,
   "id": "scientific-contribution",
   "metadata": {},
   "outputs": [
    {
     "data": {
      "text/plain": [
       "(11610, 8)"
      ]
     },
     "execution_count": 8,
     "metadata": {},
     "output_type": "execute_result"
    }
   ],
   "source": [
    "X_train.shape\n"
   ]
  },
  {
   "cell_type": "code",
   "execution_count": 10,
   "id": "reverse-hazard",
   "metadata": {},
   "outputs": [],
   "source": [
    "model = keras.models.Sequential([\n",
    "    keras.layers.Dense(30 , activation=\"relu\" , input_shape=[8]),\n",
    "    keras.layers.Dense(30 , activation=\"relu\"),\n",
    "    keras.layers.Dense(1)\n",
    "])\n"
   ]
  },
  {
   "cell_type": "code",
   "execution_count": 11,
   "id": "defined-oasis",
   "metadata": {},
   "outputs": [
    {
     "name": "stdout",
     "output_type": "stream",
     "text": [
      "Model: \"sequential\"\n",
      "_________________________________________________________________\n",
      "Layer (type)                 Output Shape              Param #   \n",
      "=================================================================\n",
      "dense_3 (Dense)              (None, 30)                270       \n",
      "_________________________________________________________________\n",
      "dense_4 (Dense)              (None, 30)                930       \n",
      "_________________________________________________________________\n",
      "dense_5 (Dense)              (None, 1)                 31        \n",
      "=================================================================\n",
      "Total params: 1,231\n",
      "Trainable params: 1,231\n",
      "Non-trainable params: 0\n",
      "_________________________________________________________________\n"
     ]
    }
   ],
   "source": [
    "model.summary()"
   ]
  },
  {
   "cell_type": "code",
   "execution_count": 12,
   "id": "statutory-wages",
   "metadata": {},
   "outputs": [],
   "source": [
    "model.compile(loss=\"mean_squared_error\", optimizer=keras.optimizers.SGD(lr=1e-3), metrics=[\"mae\"])"
   ]
  },
  {
   "cell_type": "code",
   "execution_count": 18,
   "id": "turned-delay",
   "metadata": {},
   "outputs": [
    {
     "name": "stdout",
     "output_type": "stream",
     "text": [
      "Epoch 1/20\n",
      "363/363 [==============================] - 1s 2ms/step - loss: 0.3949 - mae: 0.4489 - val_loss: 0.3695 - val_mae: 0.4322\n",
      "Epoch 2/20\n",
      "363/363 [==============================] - 1s 2ms/step - loss: 0.3922 - mae: 0.4469 - val_loss: 0.3698 - val_mae: 0.4350\n",
      "Epoch 3/20\n",
      "363/363 [==============================] - 1s 2ms/step - loss: 0.3898 - mae: 0.4461 - val_loss: 0.3647 - val_mae: 0.4285\n",
      "Epoch 4/20\n",
      "363/363 [==============================] - 1s 2ms/step - loss: 0.3873 - mae: 0.4439 - val_loss: 0.3632 - val_mae: 0.4309\n",
      "Epoch 5/20\n",
      "363/363 [==============================] - 1s 2ms/step - loss: 0.3851 - mae: 0.4426 - val_loss: 0.3607 - val_mae: 0.4276\n",
      "Epoch 6/20\n",
      "363/363 [==============================] - 1s 2ms/step - loss: 0.3829 - mae: 0.4415 - val_loss: 0.3586 - val_mae: 0.4247\n",
      "Epoch 7/20\n",
      "363/363 [==============================] - 1s 2ms/step - loss: 0.3808 - mae: 0.4398 - val_loss: 0.3563 - val_mae: 0.4240\n",
      "Epoch 8/20\n",
      "363/363 [==============================] - 1s 2ms/step - loss: 0.3788 - mae: 0.4385 - val_loss: 0.3559 - val_mae: 0.4228\n",
      "Epoch 9/20\n",
      "363/363 [==============================] - 1s 2ms/step - loss: 0.3768 - mae: 0.4375 - val_loss: 0.3549 - val_mae: 0.4208\n",
      "Epoch 10/20\n",
      "363/363 [==============================] - 1s 2ms/step - loss: 0.3749 - mae: 0.4359 - val_loss: 0.3526 - val_mae: 0.4193\n",
      "Epoch 11/20\n",
      "363/363 [==============================] - 1s 2ms/step - loss: 0.3732 - mae: 0.4347 - val_loss: 0.3495 - val_mae: 0.4198\n",
      "Epoch 12/20\n",
      "363/363 [==============================] - 1s 2ms/step - loss: 0.3715 - mae: 0.4336 - val_loss: 0.3549 - val_mae: 0.4194\n",
      "Epoch 13/20\n",
      "363/363 [==============================] - 1s 2ms/step - loss: 0.3700 - mae: 0.4327 - val_loss: 0.3515 - val_mae: 0.4206\n",
      "Epoch 14/20\n",
      "363/363 [==============================] - 1s 2ms/step - loss: 0.3684 - mae: 0.4315 - val_loss: 0.3468 - val_mae: 0.4187\n",
      "Epoch 15/20\n",
      "363/363 [==============================] - 1s 2ms/step - loss: 0.3671 - mae: 0.4307 - val_loss: 0.3674 - val_mae: 0.4211\n",
      "Epoch 16/20\n",
      "363/363 [==============================] - 1s 2ms/step - loss: 0.3659 - mae: 0.4305 - val_loss: 0.3437 - val_mae: 0.4162\n",
      "Epoch 17/20\n",
      "363/363 [==============================] - 1s 2ms/step - loss: 0.3648 - mae: 0.4294 - val_loss: 0.3583 - val_mae: 0.4170\n",
      "Epoch 18/20\n",
      "363/363 [==============================] - 1s 2ms/step - loss: 0.3635 - mae: 0.4284 - val_loss: 0.3507 - val_mae: 0.4146\n",
      "Epoch 19/20\n",
      "363/363 [==============================] - 1s 2ms/step - loss: 0.3622 - mae: 0.4272 - val_loss: 0.3451 - val_mae: 0.4143\n",
      "Epoch 20/20\n",
      "363/363 [==============================] - 1s 2ms/step - loss: 0.3613 - mae: 0.4269 - val_loss: 0.3852 - val_mae: 0.4192\n"
     ]
    }
   ],
   "source": [
    "model_history = model.fit(X_train , y_train , epochs=20 , validation_data=(X_valid , y_valid))"
   ]
  },
  {
   "cell_type": "code",
   "execution_count": 19,
   "id": "conservative-liberia",
   "metadata": {},
   "outputs": [
    {
     "name": "stdout",
     "output_type": "stream",
     "text": [
      "162/162 [==============================] - 0s 1ms/step - loss: 0.3596 - mae: 0.4269\n"
     ]
    }
   ],
   "source": [
    "mae_test = model.evaluate(X_test , y_test)"
   ]
  },
  {
   "cell_type": "code",
   "execution_count": 20,
   "id": "intellectual-armenia",
   "metadata": {},
   "outputs": [
    {
     "data": {
      "text/plain": [
       "{'loss': [0.3948921859264374,\n",
       "  0.3922426700592041,\n",
       "  0.38980168104171753,\n",
       "  0.3872992992401123,\n",
       "  0.3851175904273987,\n",
       "  0.3828714191913605,\n",
       "  0.3807542324066162,\n",
       "  0.3787873089313507,\n",
       "  0.37684252858161926,\n",
       "  0.37485161423683167,\n",
       "  0.3732492923736572,\n",
       "  0.37154120206832886,\n",
       "  0.3699617087841034,\n",
       "  0.36844807863235474,\n",
       "  0.3671077489852905,\n",
       "  0.36586400866508484,\n",
       "  0.364767462015152,\n",
       "  0.36347660422325134,\n",
       "  0.36217090487480164,\n",
       "  0.3612859845161438],\n",
       " 'mae': [0.448872447013855,\n",
       "  0.4469223618507385,\n",
       "  0.4460664689540863,\n",
       "  0.4439034163951874,\n",
       "  0.4425695538520813,\n",
       "  0.4414599537849426,\n",
       "  0.4398252069950104,\n",
       "  0.43846991658210754,\n",
       "  0.43753182888031006,\n",
       "  0.4359447658061981,\n",
       "  0.43472516536712646,\n",
       "  0.43356847763061523,\n",
       "  0.43265366554260254,\n",
       "  0.43151575326919556,\n",
       "  0.43066665530204773,\n",
       "  0.43046438694000244,\n",
       "  0.42939263582229614,\n",
       "  0.42837896943092346,\n",
       "  0.42722663283348083,\n",
       "  0.42688435316085815],\n",
       " 'val_loss': [0.3695237636566162,\n",
       "  0.3698018789291382,\n",
       "  0.3646637797355652,\n",
       "  0.3632129728794098,\n",
       "  0.3606773912906647,\n",
       "  0.35861778259277344,\n",
       "  0.35634544491767883,\n",
       "  0.3559224009513855,\n",
       "  0.3549463450908661,\n",
       "  0.3526076674461365,\n",
       "  0.34950217604637146,\n",
       "  0.35491931438446045,\n",
       "  0.35146665573120117,\n",
       "  0.3468173146247864,\n",
       "  0.36744609475135803,\n",
       "  0.3437066376209259,\n",
       "  0.3583345115184784,\n",
       "  0.350708544254303,\n",
       "  0.34509706497192383,\n",
       "  0.3852340579032898],\n",
       " 'val_mae': [0.43215852975845337,\n",
       "  0.4350142180919647,\n",
       "  0.428478479385376,\n",
       "  0.430883526802063,\n",
       "  0.4276125431060791,\n",
       "  0.42469462752342224,\n",
       "  0.42398738861083984,\n",
       "  0.42283955216407776,\n",
       "  0.4207947552204132,\n",
       "  0.41933777928352356,\n",
       "  0.41980209946632385,\n",
       "  0.4194321930408478,\n",
       "  0.4205680191516876,\n",
       "  0.41870424151420593,\n",
       "  0.4210852086544037,\n",
       "  0.4162393808364868,\n",
       "  0.4169524013996124,\n",
       "  0.41462695598602295,\n",
       "  0.41430360078811646,\n",
       "  0.41919127106666565]}"
      ]
     },
     "execution_count": 20,
     "metadata": {},
     "output_type": "execute_result"
    }
   ],
   "source": [
    "model_history.history\n"
   ]
  },
  {
   "cell_type": "code",
   "execution_count": 21,
   "id": "understanding-daisy",
   "metadata": {},
   "outputs": [
    {
     "data": {
      "image/png": "[encoded data removed]",
      "text/plain": [
       "<Figure size 576x360 with 1 Axes>"
      ]
     },
     "metadata": {
      "needs_background": "light"
     },
     "output_type": "display_data"
    }
   ],
   "source": [
    "pd.DataFrame(model_history.history).plot(figsize=(8,5))\n",
    "plt.grid(True)\n",
    "plt.gca().set_ylim(0,1)\n",
    "plt.show()"
   ]
  },
  {
   "cell_type": "code",
   "execution_count": 17,
   "id": "powerful-queens",
   "metadata": {},
   "outputs": [],
   "source": [
    "X_new=X_test[:3]"
   ]
  },
  {
   "cell_type": "code",
   "execution_count": 22,
   "id": "innocent-proposition",
   "metadata": {},
   "outputs": [
    {
     "name": "stdout",
     "output_type": "stream",
     "text": [
      "[[0.6071852]\n",
      " [1.8601747]\n",
      " [3.7925048]]\n"
     ]
    }
   ],
   "source": [
    "y_pred = model.predict(X_new)\n",
    "print(y_pred)"
   ]
  },
  {
   "cell_type": "code",
   "execution_count": 23,
   "id": "silent-ethnic",
   "metadata": {},
   "outputs": [
    {
     "name": "stdout",
     "output_type": "stream",
     "text": [
      "[0.477   0.458   5.00001]\n"
     ]
    }
   ],
   "source": [
    "print(y_test[:3])"
   ]
  },
  {
   "cell_type": "code",
   "execution_count": 24,
   "id": "incoming-organizer",
   "metadata": {},
   "outputs": [],
   "source": [
    "del model"
   ]
  },
  {
   "cell_type": "code",
   "execution_count": 25,
   "id": "functioning-narrow",
   "metadata": {},
   "outputs": [],
   "source": [
    "keras.backend.clear_session()"
   ]
  },
  {
   "cell_type": "code",
   "execution_count": 28,
   "id": "alleged-musical",
   "metadata": {},
   "outputs": [],
   "source": [
    "input_ = keras.layers.Input(shape=X_train.shape[1:])\n",
    "hidden1=keras.layers.Dense(30 , activation=\"relu\")(input_)\n",
    "hidden2=keras.layers.Dense(30 , activation=\"relu\")(hidden1)\n",
    "concat=keras.layers.concatenate([input_ , hidden2])\n",
    "output=keras.layers.Dense(1)(concat)\n",
    "model=keras.models.Model(inputs=[input_] , outputs=[output])"
   ]
  },
  {
   "cell_type": "code",
   "execution_count": 29,
   "id": "polyphonic-blues",
   "metadata": {},
   "outputs": [
    {
     "name": "stdout",
     "output_type": "stream",
     "text": [
      "Model: \"functional_1\"\n",
      "__________________________________________________________________________________________________\n",
      "Layer (type)                    Output Shape         Param #     Connected to                     \n",
      "==================================================================================================\n",
      "input_3 (InputLayer)            [(None, 8)]          0                                            \n",
      "__________________________________________________________________________________________________\n",
      "dense_5 (Dense)                 (None, 30)           270         input_3[0][0]                    \n",
      "__________________________________________________________________________________________________\n",
      "dense_6 (Dense)                 (None, 30)           930         dense_5[0][0]                    \n",
      "__________________________________________________________________________________________________\n",
      "concatenate_2 (Concatenate)     (None, 38)           0           input_3[0][0]                    \n",
      "                                                                 dense_6[0][0]                    \n",
      "__________________________________________________________________________________________________\n",
      "dense_7 (Dense)                 (None, 1)            39          concatenate_2[0][0]              \n",
      "==================================================================================================\n",
      "Total params: 1,239\n",
      "Trainable params: 1,239\n",
      "Non-trainable params: 0\n",
      "__________________________________________________________________________________________________\n"
     ]
    }
   ],
   "source": [
    "model.summary()"
   ]
  },
  {
   "cell_type": "code",
   "execution_count": 30,
   "id": "rental-september",
   "metadata": {},
   "outputs": [],
   "source": [
    "model.compile(loss=\"mean_squared_error\", optimizer=keras.optimizers.SGD(lr=1e-3), metrics=[\"mae\"])"
   ]
  },
  {
   "cell_type": "code",
   "execution_count": 35,
   "id": "living-message",
   "metadata": {},
   "outputs": [
    {
     "name": "stdout",
     "output_type": "stream",
     "text": [
      "Epoch 1/50\n",
      "363/363 [==============================] - 1s 2ms/step - loss: 0.3655 - mae: 0.4290 - val_loss: 0.3490 - val_mae: 0.4161\n",
      "Epoch 2/50\n",
      "363/363 [==============================] - 1s 2ms/step - loss: 0.3652 - mae: 0.4284 - val_loss: 0.3739 - val_mae: 0.4234\n",
      "Epoch 3/50\n",
      "363/363 [==============================] - 1s 2ms/step - loss: 0.3645 - mae: 0.4287 - val_loss: 0.3474 - val_mae: 0.4155\n",
      "Epoch 4/50\n",
      "363/363 [==============================] - 1s 2ms/step - loss: 0.3633 - mae: 0.4277 - val_loss: 0.3437 - val_mae: 0.4177\n",
      "Epoch 5/50\n",
      "363/363 [==============================] - 1s 2ms/step - loss: 0.3629 - mae: 0.4270 - val_loss: 0.3417 - val_mae: 0.4158\n",
      "Epoch 6/50\n",
      "363/363 [==============================] - 1s 2ms/step - loss: 0.3616 - mae: 0.4268 - val_loss: 0.3531 - val_mae: 0.4153\n",
      "Epoch 7/50\n",
      "363/363 [==============================] - 1s 2ms/step - loss: 0.3615 - mae: 0.4260 - val_loss: 0.3551 - val_mae: 0.4167\n",
      "Epoch 8/50\n",
      "363/363 [==============================] - 1s 2ms/step - loss: 0.3606 - mae: 0.4259 - val_loss: 0.3396 - val_mae: 0.4124\n",
      "Epoch 9/50\n",
      "363/363 [==============================] - 1s 2ms/step - loss: 0.3596 - mae: 0.4255 - val_loss: 0.3388 - val_mae: 0.4114\n",
      "Epoch 10/50\n",
      "363/363 [==============================] - 1s 2ms/step - loss: 0.3587 - mae: 0.4248 - val_loss: 0.3441 - val_mae: 0.4117\n",
      "Epoch 11/50\n",
      "363/363 [==============================] - 1s 2ms/step - loss: 0.3585 - mae: 0.4240 - val_loss: 0.3807 - val_mae: 0.4159\n",
      "Epoch 12/50\n",
      "363/363 [==============================] - 1s 2ms/step - loss: 0.3578 - mae: 0.4239 - val_loss: 0.4319 - val_mae: 0.4185\n",
      "Epoch 13/50\n",
      "363/363 [==============================] - 1s 2ms/step - loss: 0.3580 - mae: 0.4233 - val_loss: 0.3484 - val_mae: 0.4162\n",
      "Epoch 14/50\n",
      "363/363 [==============================] - 1s 2ms/step - loss: 0.3562 - mae: 0.4225 - val_loss: 0.3367 - val_mae: 0.4131\n",
      "Epoch 15/50\n",
      "363/363 [==============================] - 1s 2ms/step - loss: 0.3557 - mae: 0.4223 - val_loss: 0.3366 - val_mae: 0.4124\n",
      "Epoch 16/50\n",
      "363/363 [==============================] - 1s 2ms/step - loss: 0.3549 - mae: 0.4222 - val_loss: 0.3418 - val_mae: 0.4130\n",
      "Epoch 17/50\n",
      "363/363 [==============================] - 1s 2ms/step - loss: 0.3541 - mae: 0.4219 - val_loss: 0.3828 - val_mae: 0.4146\n",
      "Epoch 18/50\n",
      "363/363 [==============================] - 1s 2ms/step - loss: 0.3545 - mae: 0.4213 - val_loss: 0.3447 - val_mae: 0.4107\n",
      "Epoch 19/50\n",
      "363/363 [==============================] - 1s 2ms/step - loss: 0.3529 - mae: 0.4206 - val_loss: 0.3401 - val_mae: 0.4093\n",
      "Epoch 20/50\n",
      "363/363 [==============================] - 1s 2ms/step - loss: 0.3525 - mae: 0.4201 - val_loss: 0.3597 - val_mae: 0.4137\n",
      "Epoch 21/50\n",
      "363/363 [==============================] - 1s 2ms/step - loss: 0.3520 - mae: 0.4195 - val_loss: 0.3358 - val_mae: 0.4125\n",
      "Epoch 22/50\n",
      "363/363 [==============================] - 1s 2ms/step - loss: 0.3509 - mae: 0.4197 - val_loss: 0.4461 - val_mae: 0.4200\n",
      "Epoch 23/50\n",
      "363/363 [==============================] - 1s 2ms/step - loss: 0.3510 - mae: 0.4195 - val_loss: 0.5152 - val_mae: 0.4150\n",
      "Epoch 24/50\n",
      "363/363 [==============================] - 1s 2ms/step - loss: 0.3504 - mae: 0.4184 - val_loss: 0.4711 - val_mae: 0.4172\n",
      "Epoch 25/50\n",
      "363/363 [==============================] - 1s 2ms/step - loss: 0.3505 - mae: 0.4181 - val_loss: 0.3404 - val_mae: 0.4100\n",
      "Epoch 26/50\n",
      "363/363 [==============================] - 1s 2ms/step - loss: 0.3485 - mae: 0.4179 - val_loss: 0.4047 - val_mae: 0.4132\n",
      "Epoch 27/50\n",
      "363/363 [==============================] - 1s 2ms/step - loss: 0.3487 - mae: 0.4174 - val_loss: 0.4542 - val_mae: 0.4134\n",
      "Epoch 28/50\n",
      "363/363 [==============================] - 1s 2ms/step - loss: 0.3480 - mae: 0.4169 - val_loss: 0.4281 - val_mae: 0.4166\n",
      "Epoch 29/50\n",
      "363/363 [==============================] - 1s 2ms/step - loss: 0.3476 - mae: 0.4165 - val_loss: 0.3604 - val_mae: 0.4115\n",
      "Epoch 30/50\n",
      "363/363 [==============================] - 1s 2ms/step - loss: 0.3465 - mae: 0.4165 - val_loss: 0.4371 - val_mae: 0.4146\n",
      "Epoch 31/50\n",
      "363/363 [==============================] - 1s 2ms/step - loss: 0.3469 - mae: 0.4152 - val_loss: 0.3995 - val_mae: 0.4123\n",
      "Epoch 32/50\n",
      "363/363 [==============================] - 1s 2ms/step - loss: 0.3454 - mae: 0.4158 - val_loss: 0.4401 - val_mae: 0.4160\n",
      "Epoch 33/50\n",
      "363/363 [==============================] - 1s 2ms/step - loss: 0.3456 - mae: 0.4150 - val_loss: 0.4127 - val_mae: 0.4125\n",
      "Epoch 34/50\n",
      "363/363 [==============================] - 1s 2ms/step - loss: 0.3440 - mae: 0.4143 - val_loss: 0.3390 - val_mae: 0.4095\n",
      "Epoch 35/50\n",
      "363/363 [==============================] - 1s 2ms/step - loss: 0.3436 - mae: 0.4142 - val_loss: 0.3373 - val_mae: 0.4092\n",
      "Epoch 36/50\n",
      "363/363 [==============================] - 1s 2ms/step - loss: 0.3430 - mae: 0.4138 - val_loss: 0.3670 - val_mae: 0.4078\n",
      "Epoch 37/50\n",
      "363/363 [==============================] - 1s 2ms/step - loss: 0.3425 - mae: 0.4131 - val_loss: 0.3881 - val_mae: 0.4123\n",
      "Epoch 38/50\n",
      "363/363 [==============================] - 1s 2ms/step - loss: 0.3422 - mae: 0.4130 - val_loss: 0.4134 - val_mae: 0.4111\n",
      "Epoch 39/50\n",
      "363/363 [==============================] - 1s 2ms/step - loss: 0.3416 - mae: 0.4129 - val_loss: 0.3634 - val_mae: 0.4085\n",
      "Epoch 40/50\n",
      "363/363 [==============================] - 1s 2ms/step - loss: 0.3411 - mae: 0.4123 - val_loss: 0.3444 - val_mae: 0.4042\n",
      "Epoch 41/50\n",
      "363/363 [==============================] - 1s 2ms/step - loss: 0.3404 - mae: 0.4117 - val_loss: 0.3749 - val_mae: 0.4087\n",
      "Epoch 42/50\n",
      "363/363 [==============================] - 1s 2ms/step - loss: 0.3406 - mae: 0.4119 - val_loss: 0.3232 - val_mae: 0.4029\n",
      "Epoch 43/50\n",
      "363/363 [==============================] - 1s 2ms/step - loss: 0.3391 - mae: 0.4108 - val_loss: 0.3478 - val_mae: 0.4056\n",
      "Epoch 44/50\n",
      "363/363 [==============================] - 1s 2ms/step - loss: 0.3389 - mae: 0.4105 - val_loss: 0.3283 - val_mae: 0.4065\n",
      "Epoch 45/50\n",
      "363/363 [==============================] - 1s 2ms/step - loss: 0.3385 - mae: 0.4109 - val_loss: 0.3211 - val_mae: 0.3999\n",
      "Epoch 46/50\n",
      "363/363 [==============================] - 1s 2ms/step - loss: 0.3376 - mae: 0.4091 - val_loss: 0.3282 - val_mae: 0.4037\n",
      "Epoch 47/50\n",
      "363/363 [==============================] - 1s 2ms/step - loss: 0.3373 - mae: 0.4097 - val_loss: 0.3359 - val_mae: 0.4031\n",
      "Epoch 48/50\n",
      "363/363 [==============================] - 1s 2ms/step - loss: 0.3370 - mae: 0.4091 - val_loss: 0.3228 - val_mae: 0.4027\n",
      "Epoch 49/50\n",
      "363/363 [==============================] - 1s 2ms/step - loss: 0.3367 - mae: 0.4093 - val_loss: 0.3203 - val_mae: 0.4019\n",
      "Epoch 50/50\n",
      "363/363 [==============================] - 1s 2ms/step - loss: 0.3359 - mae: 0.4088 - val_loss: 0.3377 - val_mae: 0.4018\n"
     ]
    }
   ],
   "source": [
    "model_history = model.fit(X_train , y_train , epochs=50 , validation_data=(X_valid , y_valid))"
   ]
  },
  {
   "cell_type": "code",
   "execution_count": 36,
   "id": "generic-functionality",
   "metadata": {},
   "outputs": [
    {
     "name": "stdout",
     "output_type": "stream",
     "text": [
      "162/162 [==============================] - 0s 1ms/step - loss: 0.3412 - mae: 0.4097\n"
     ]
    }
   ],
   "source": [
    "mae_test=model.evaluate(X_test , y_test)"
   ]
  },
  {
   "cell_type": "code",
   "execution_count": 33,
   "id": "phantom-compilation",
   "metadata": {},
   "outputs": [
    {
     "data": {
      "text/plain": [
       "{'loss': [1.9555507898330688,\n",
       "  0.8788676261901855,\n",
       "  0.7203900814056396,\n",
       "  0.6638119220733643,\n",
       "  0.6180918216705322,\n",
       "  0.5800491571426392,\n",
       "  0.5514811277389526,\n",
       "  0.529137372970581,\n",
       "  0.506376326084137,\n",
       "  0.4888332784175873,\n",
       "  0.47620975971221924,\n",
       "  0.46231070160865784,\n",
       "  0.45454543828964233,\n",
       "  0.44369855523109436,\n",
       "  0.4360165297985077,\n",
       "  0.42917361855506897,\n",
       "  0.42399266362190247,\n",
       "  0.4191461205482483,\n",
       "  0.413928747177124,\n",
       "  0.4112672805786133,\n",
       "  0.4073503911495209,\n",
       "  0.4047315716743469,\n",
       "  0.4018203914165497,\n",
       "  0.3991885483264923,\n",
       "  0.39689356088638306,\n",
       "  0.39492523670196533,\n",
       "  0.39337921142578125,\n",
       "  0.39168781042099,\n",
       "  0.38983333110809326,\n",
       "  0.388418972492218,\n",
       "  0.386412113904953,\n",
       "  0.38518616557121277,\n",
       "  0.3844786286354065,\n",
       "  0.38216283917427063,\n",
       "  0.3813483417034149,\n",
       "  0.38023456931114197,\n",
       "  0.37902241945266724,\n",
       "  0.3781374394893646,\n",
       "  0.3768531084060669,\n",
       "  0.375517338514328,\n",
       "  0.374965637922287,\n",
       "  0.37414905428886414,\n",
       "  0.37301012873649597,\n",
       "  0.37153035402297974,\n",
       "  0.37152600288391113,\n",
       "  0.3701983094215393,\n",
       "  0.3689972460269928,\n",
       "  0.36839932203292847,\n",
       "  0.3680598735809326,\n",
       "  0.36665788292884827],\n",
       " 'mae': [0.9764688611030579,\n",
       "  0.6715351939201355,\n",
       "  0.6263163685798645,\n",
       "  0.5975030064582825,\n",
       "  0.573636531829834,\n",
       "  0.5547837018966675,\n",
       "  0.5391847491264343,\n",
       "  0.5259151458740234,\n",
       "  0.5147595405578613,\n",
       "  0.5052873492240906,\n",
       "  0.49568045139312744,\n",
       "  0.48965832591056824,\n",
       "  0.4847536087036133,\n",
       "  0.4783320426940918,\n",
       "  0.47416016459465027,\n",
       "  0.47013208270072937,\n",
       "  0.4665927290916443,\n",
       "  0.4634726941585541,\n",
       "  0.45990580320358276,\n",
       "  0.45801547169685364,\n",
       "  0.45539551973342896,\n",
       "  0.4544680118560791,\n",
       "  0.45244818925857544,\n",
       "  0.45027562975883484,\n",
       "  0.44936150312423706,\n",
       "  0.44774776697158813,\n",
       "  0.4468217194080353,\n",
       "  0.44547024369239807,\n",
       "  0.4443441927433014,\n",
       "  0.4437042474746704,\n",
       "  0.4422624111175537,\n",
       "  0.44189944863319397,\n",
       "  0.44113263487815857,\n",
       "  0.4399264454841614,\n",
       "  0.43932121992111206,\n",
       "  0.43868330121040344,\n",
       "  0.4377291798591614,\n",
       "  0.4375370144844055,\n",
       "  0.436728298664093,\n",
       "  0.4359489679336548,\n",
       "  0.43475010991096497,\n",
       "  0.4348661005496979,\n",
       "  0.43352797627449036,\n",
       "  0.4327491521835327,\n",
       "  0.4334729313850403,\n",
       "  0.43150022625923157,\n",
       "  0.43163150548934937,\n",
       "  0.4307226538658142,\n",
       "  0.4306662380695343,\n",
       "  0.4299573302268982],\n",
       " 'val_loss': [9.070937156677246,\n",
       "  0.7934250831604004,\n",
       "  0.7917250394821167,\n",
       "  0.6160403490066528,\n",
       "  0.5733746290206909,\n",
       "  0.5743378400802612,\n",
       "  0.585029661655426,\n",
       "  0.5070762038230896,\n",
       "  0.48900383710861206,\n",
       "  0.5309164524078369,\n",
       "  0.5712016820907593,\n",
       "  0.5847958326339722,\n",
       "  0.4208666980266571,\n",
       "  0.4062561094760895,\n",
       "  0.39988774061203003,\n",
       "  0.39462682604789734,\n",
       "  0.4039275646209717,\n",
       "  0.39117375016212463,\n",
       "  0.3845796585083008,\n",
       "  0.39393603801727295,\n",
       "  0.37814199924468994,\n",
       "  0.409584105014801,\n",
       "  0.37385880947113037,\n",
       "  0.3968191146850586,\n",
       "  0.3717418313026428,\n",
       "  0.37916257977485657,\n",
       "  0.3691638112068176,\n",
       "  0.38784077763557434,\n",
       "  0.36374250054359436,\n",
       "  0.3867815136909485,\n",
       "  0.36415401101112366,\n",
       "  0.39332616329193115,\n",
       "  0.36160263419151306,\n",
       "  0.35798925161361694,\n",
       "  0.4067330062389374,\n",
       "  0.3879881203174591,\n",
       "  0.40221378207206726,\n",
       "  0.3717617690563202,\n",
       "  0.3538752794265747,\n",
       "  0.3511488735675812,\n",
       "  0.36460384726524353,\n",
       "  0.3668212592601776,\n",
       "  0.3587943911552429,\n",
       "  0.3832398056983948,\n",
       "  0.34991520643234253,\n",
       "  0.34962597489356995,\n",
       "  0.35197776556015015,\n",
       "  0.3624151647090912,\n",
       "  0.34559720754623413,\n",
       "  0.3498274087905884],\n",
       " 'val_mae': [0.752651035785675,\n",
       "  0.635746419429779,\n",
       "  0.5999647974967957,\n",
       "  0.5702602863311768,\n",
       "  0.5450242757797241,\n",
       "  0.5306848287582397,\n",
       "  0.5171007513999939,\n",
       "  0.5028327703475952,\n",
       "  0.4911879003047943,\n",
       "  0.4838556945323944,\n",
       "  0.4927053153514862,\n",
       "  0.47334596514701843,\n",
       "  0.462994247674942,\n",
       "  0.4582568109035492,\n",
       "  0.4519604742527008,\n",
       "  0.44936510920524597,\n",
       "  0.4459865093231201,\n",
       "  0.4417741298675537,\n",
       "  0.4383572041988373,\n",
       "  0.44141823053359985,\n",
       "  0.4396967887878418,\n",
       "  0.44086703658103943,\n",
       "  0.4313841164112091,\n",
       "  0.4347555339336395,\n",
       "  0.4319700002670288,\n",
       "  0.43100810050964355,\n",
       "  0.4292850196361542,\n",
       "  0.4348399341106415,\n",
       "  0.4302899241447449,\n",
       "  0.43095481395721436,\n",
       "  0.42696067690849304,\n",
       "  0.43316391110420227,\n",
       "  0.42705008387565613,\n",
       "  0.4276852309703827,\n",
       "  0.43085339665412903,\n",
       "  0.42540767788887024,\n",
       "  0.43004748225212097,\n",
       "  0.42575448751449585,\n",
       "  0.42152994871139526,\n",
       "  0.418516606092453,\n",
       "  0.42370691895484924,\n",
       "  0.42312201857566833,\n",
       "  0.42053309082984924,\n",
       "  0.4271261692047119,\n",
       "  0.4181590974330902,\n",
       "  0.41923266649246216,\n",
       "  0.41752034425735474,\n",
       "  0.4218599200248718,\n",
       "  0.4183375835418701,\n",
       "  0.41686388850212097]}"
      ]
     },
     "execution_count": 33,
     "metadata": {},
     "output_type": "execute_result"
    }
   ],
   "source": [
    "model_history.history"
   ]
  },
  {
   "cell_type": "code",
   "execution_count": 37,
   "id": "broad-league",
   "metadata": {},
   "outputs": [
    {
     "data": {
      "image/png": "[encoded data removed]",
      "text/plain": [
       "<Figure size 576x360 with 1 Axes>"
      ]
     },
     "metadata": {
      "needs_background": "light"
     },
     "output_type": "display_data"
    }
   ],
   "source": [
    "pd.DataFrame(model_history.history).plot(figsize=(8,5))\n",
    "plt.grid(True)\n",
    "plt.gca().set_ylim(0,1)\n",
    "plt.show()"
   ]
  },
  {
   "cell_type": "markdown",
   "id": "modular-insurance",
   "metadata": {},
   "source": [
    "# Saving and Restoring"
   ]
  },
  {
   "cell_type": "code",
   "execution_count": 39,
   "id": "proved-remove",
   "metadata": {},
   "outputs": [],
   "source": [
    "model.save(\"my_Func_model.h5\")"
   ]
  },
  {
   "cell_type": "code",
   "execution_count": 40,
   "id": "palestinian-shakespeare",
   "metadata": {},
   "outputs": [
    {
     "data": {
      "text/plain": [
       "'C:\\\\Users\\\\rajpoot'"
      ]
     },
     "execution_count": 40,
     "metadata": {},
     "output_type": "execute_result"
    }
   ],
   "source": [
    "%pwd"
   ]
  },
  {
   "cell_type": "markdown",
   "id": "protecting-night",
   "metadata": {},
   "source": [
    "%cd -->> for changing directory"
   ]
  },
  {
   "cell_type": "code",
   "execution_count": 41,
   "id": "fourth-drinking",
   "metadata": {},
   "outputs": [],
   "source": [
    "del model "
   ]
  },
  {
   "cell_type": "code",
   "execution_count": 42,
   "id": "cutting-endorsement",
   "metadata": {},
   "outputs": [],
   "source": [
    "keras.backend.clear_session()"
   ]
  },
  {
   "cell_type": "code",
   "execution_count": 44,
   "id": "dirty-occurrence",
   "metadata": {},
   "outputs": [],
   "source": [
    "model = keras.models.load_model(\"my_Func_model.h5\")"
   ]
  },
  {
   "cell_type": "code",
   "execution_count": 45,
   "id": "amateur-burns",
   "metadata": {},
   "outputs": [
    {
     "name": "stdout",
     "output_type": "stream",
     "text": [
      "Model: \"functional_1\"\n",
      "__________________________________________________________________________________________________\n",
      "Layer (type)                    Output Shape         Param #     Connected to                     \n",
      "==================================================================================================\n",
      "input_3 (InputLayer)            [(None, 8)]          0                                            \n",
      "__________________________________________________________________________________________________\n",
      "dense_5 (Dense)                 (None, 30)           270         input_3[0][0]                    \n",
      "__________________________________________________________________________________________________\n",
      "dense_6 (Dense)                 (None, 30)           930         dense_5[0][0]                    \n",
      "__________________________________________________________________________________________________\n",
      "concatenate_2 (Concatenate)     (None, 38)           0           input_3[0][0]                    \n",
      "                                                                 dense_6[0][0]                    \n",
      "__________________________________________________________________________________________________\n",
      "dense_7 (Dense)                 (None, 1)            39          concatenate_2[0][0]              \n",
      "==================================================================================================\n",
      "Total params: 1,239\n",
      "Trainable params: 1,239\n",
      "Non-trainable params: 0\n",
      "__________________________________________________________________________________________________\n"
     ]
    }
   ],
   "source": [
    "model.summary()"
   ]
  },
  {
   "cell_type": "code",
   "execution_count": 46,
   "id": "global-somerset",
   "metadata": {},
   "outputs": [
    {
     "name": "stdout",
     "output_type": "stream",
     "text": [
      "[[0.6260144]\n",
      " [1.6178424]\n",
      " [3.9852567]]\n"
     ]
    }
   ],
   "source": [
    "y_pred=model.predict(X_new)\n",
    "print(y_pred)"
   ]
  },
  {
   "cell_type": "markdown",
   "id": "thousand-construction",
   "metadata": {},
   "source": [
    "# Using Callbacks"
   ]
  },
  {
   "cell_type": "code",
   "execution_count": 48,
   "id": "transsexual-mixer",
   "metadata": {},
   "outputs": [],
   "source": [
    "keras.backend.clear_session()\n",
    "np.random.seed(42)\n",
    "tf.random.set_seed(42)"
   ]
  },
  {
   "cell_type": "code",
   "execution_count": 49,
   "id": "diverse-optimum",
   "metadata": {},
   "outputs": [],
   "source": [
    "model = keras.models.Sequential([\n",
    "    keras.layers.Dense(30 , activation=\"relu\" , input_shape=[8]),\n",
    "    keras.layers.Dense(30 , activation=\"relu\"),\n",
    "    keras.layers.Dense(1)\n",
    "])"
   ]
  },
  {
   "cell_type": "code",
   "execution_count": 52,
   "id": "southeast-longitude",
   "metadata": {},
   "outputs": [],
   "source": [
    "model.compile(loss=\"mse\" , optimizer=keras.optimizers.SGD(lr=1e-3))"
   ]
  },
  {
   "cell_type": "code",
   "execution_count": 53,
   "id": "skilled-wedding",
   "metadata": {},
   "outputs": [],
   "source": [
    "checkpoint_cb= keras.callbacks.ModelCheckpoint(\"Model -{epoch:02d}.h5\")"
   ]
  },
  {
   "cell_type": "code",
   "execution_count": 54,
   "id": "regulation-emphasis",
   "metadata": {},
   "outputs": [
    {
     "name": "stdout",
     "output_type": "stream",
     "text": [
      "Epoch 1/20\n",
      "363/363 [==============================] - 1s 3ms/step - loss: 1.8866 - val_loss: 0.7126\n",
      "Epoch 2/20\n",
      "363/363 [==============================] - 1s 2ms/step - loss: 0.6577 - val_loss: 0.6880\n",
      "Epoch 3/20\n",
      "363/363 [==============================] - 1s 2ms/step - loss: 0.5934 - val_loss: 0.5803\n",
      "Epoch 4/20\n",
      "363/363 [==============================] - 1s 2ms/step - loss: 0.5557 - val_loss: 0.5166\n",
      "Epoch 5/20\n",
      "363/363 [==============================] - 1s 2ms/step - loss: 0.5272 - val_loss: 0.4895\n",
      "Epoch 6/20\n",
      "363/363 [==============================] - 1s 2ms/step - loss: 0.5033 - val_loss: 0.4951\n",
      "Epoch 7/20\n",
      "363/363 [==============================] - 1s 2ms/step - loss: 0.4854 - val_loss: 0.4861\n",
      "Epoch 8/20\n",
      "363/363 [==============================] - 1s 2ms/step - loss: 0.4709 - val_loss: 0.4554\n",
      "Epoch 9/20\n",
      "363/363 [==============================] - 1s 2ms/step - loss: 0.4578 - val_loss: 0.4413\n",
      "Epoch 10/20\n",
      "363/363 [==============================] - 1s 2ms/step - loss: 0.4474 - val_loss: 0.4379\n",
      "Epoch 11/20\n",
      "363/363 [==============================] - 1s 2ms/step - loss: 0.4393 - val_loss: 0.4396\n",
      "Epoch 12/20\n",
      "363/363 [==============================] - 1s 2ms/step - loss: 0.4318 - val_loss: 0.4507\n",
      "Epoch 13/20\n",
      "363/363 [==============================] - 1s 2ms/step - loss: 0.4261 - val_loss: 0.3997\n",
      "Epoch 14/20\n",
      "363/363 [==============================] - 1s 2ms/step - loss: 0.4202 - val_loss: 0.3956\n",
      "Epoch 15/20\n",
      "363/363 [==============================] - 1s 2ms/step - loss: 0.4155 - val_loss: 0.3916\n",
      "Epoch 16/20\n",
      "363/363 [==============================] - 1s 2ms/step - loss: 0.4112 - val_loss: 0.3937\n",
      "Epoch 17/20\n",
      "363/363 [==============================] - 1s 2ms/step - loss: 0.4077 - val_loss: 0.3809\n",
      "Epoch 18/20\n",
      "363/363 [==============================] - 1s 2ms/step - loss: 0.4040 - val_loss: 0.3793\n",
      "Epoch 19/20\n",
      "363/363 [==============================] - 1s 2ms/step - loss: 0.4004 - val_loss: 0.3850\n",
      "Epoch 20/20\n",
      "363/363 [==============================] - 1s 2ms/step - loss: 0.3980 - val_loss: 0.3809\n"
     ]
    }
   ],
   "source": [
    "history = model.fit(X_train , y_train , epochs=20 , validation_data=(X_valid , y_valid) , callbacks=[checkpoint_cb])"
   ]
  },
  {
   "cell_type": "code",
   "execution_count": 55,
   "id": "alone-timing",
   "metadata": {},
   "outputs": [],
   "source": [
    "del model"
   ]
  },
  {
   "cell_type": "code",
   "execution_count": 56,
   "id": "proprietary-shannon",
   "metadata": {},
   "outputs": [],
   "source": [
    "keras.backend.clear_session()"
   ]
  },
  {
   "cell_type": "code",
   "execution_count": 60,
   "id": "auburn-effect",
   "metadata": {},
   "outputs": [],
   "source": [
    "model = keras.models.load_model(\"Model -10.h5\")"
   ]
  },
  {
   "cell_type": "code",
   "execution_count": 62,
   "id": "elder-edinburgh",
   "metadata": {},
   "outputs": [
    {
     "name": "stdout",
     "output_type": "stream",
     "text": [
      "162/162 [==============================] - 0s 1ms/step - loss: 0.4382\n"
     ]
    }
   ],
   "source": [
    "mse_test = model.evaluate(X_test , y_test)"
   ]
  },
  {
   "cell_type": "markdown",
   "id": "prepared-style",
   "metadata": {},
   "source": [
    "# Best Model Only"
   ]
  },
  {
   "cell_type": "code",
   "execution_count": 63,
   "id": "finnish-april",
   "metadata": {},
   "outputs": [],
   "source": [
    "del model\n",
    "keras.backend.clear_session()"
   ]
  },
  {
   "cell_type": "code",
   "execution_count": 64,
   "id": "round-longer",
   "metadata": {},
   "outputs": [],
   "source": [
    "model = keras.models.Sequential([\n",
    "    keras.layers.Dense(30 , activation=\"relu\" , input_shape=[8]),\n",
    "    keras.layers.Dense(30 , activation=\"relu\"),\n",
    "    keras.layers.Dense(1)\n",
    "])"
   ]
  },
  {
   "cell_type": "code",
   "execution_count": 65,
   "id": "defensive-prize",
   "metadata": {},
   "outputs": [],
   "source": [
    "model.compile(loss=\"mse\" , optimizer=keras.optimizers.SGD(lr=1e-3))"
   ]
  },
  {
   "cell_type": "code",
   "execution_count": 66,
   "id": "aggressive-worse",
   "metadata": {},
   "outputs": [],
   "source": [
    "checkpoint_cb= keras.callbacks.ModelCheckpoint(\"Early_stop_model.h5\" , save_best_only=True)"
   ]
  },
  {
   "cell_type": "code",
   "execution_count": 67,
   "id": "adopted-colors",
   "metadata": {},
   "outputs": [],
   "source": [
    "early_stopping_cb= keras.callbacks.EarlyStopping(patience=10 , restore_best_weights=True)"
   ]
  },
  {
   "cell_type": "code",
   "execution_count": 69,
   "id": "periodic-carol",
   "metadata": {},
   "outputs": [
    {
     "name": "stdout",
     "output_type": "stream",
     "text": [
      "Epoch 1/200\n",
      "363/363 [==============================] - 1s 2ms/step - loss: 0.4333 - val_loss: 0.4239\n",
      "Epoch 2/200\n",
      "363/363 [==============================] - 1s 2ms/step - loss: 0.4251 - val_loss: 0.4403\n",
      "Epoch 3/200\n",
      "363/363 [==============================] - 1s 2ms/step - loss: 0.4184 - val_loss: 0.4407\n",
      "Epoch 4/200\n",
      "363/363 [==============================] - 1s 2ms/step - loss: 0.4125 - val_loss: 0.4481\n",
      "Epoch 5/200\n",
      "363/363 [==============================] - 1s 2ms/step - loss: 0.4082 - val_loss: 0.4347\n",
      "Epoch 6/200\n",
      "363/363 [==============================] - 1s 2ms/step - loss: 0.4039 - val_loss: 0.4566\n",
      "Epoch 7/200\n",
      "363/363 [==============================] - 1s 2ms/step - loss: 0.4006 - val_loss: 0.4609\n",
      "Epoch 8/200\n",
      "363/363 [==============================] - 1s 2ms/step - loss: 0.3973 - val_loss: 0.4354\n",
      "Epoch 9/200\n",
      "363/363 [==============================] - 1s 2ms/step - loss: 0.3944 - val_loss: 0.4485\n",
      "Epoch 10/200\n",
      "363/363 [==============================] - 1s 2ms/step - loss: 0.3916 - val_loss: 0.4624\n",
      "Epoch 11/200\n",
      "363/363 [==============================] - 1s 2ms/step - loss: 0.3896 - val_loss: 0.4354\n"
     ]
    }
   ],
   "source": [
    "history = model.fit(X_train , y_train , epochs=200 , validation_data=(X_valid , y_valid) , callbacks=[checkpoint_cb , early_stopping_cb])"
   ]
  },
  {
   "cell_type": "code",
   "execution_count": 70,
   "id": "verbal-magnet",
   "metadata": {},
   "outputs": [],
   "source": [
    "model = keras.models.load_model(\"early_stop_model.h5\")"
   ]
  },
  {
   "cell_type": "code",
   "execution_count": 71,
   "id": "latter-extension",
   "metadata": {},
   "outputs": [
    {
     "name": "stdout",
     "output_type": "stream",
     "text": [
      "162/162 [==============================] - 0s 1ms/step - loss: 0.3870\n"
     ]
    }
   ],
   "source": [
    "mse_test = model.evaluate(X_test , y_test)"
   ]
  },
  {
   "cell_type": "code",
   "execution_count": null,
   "id": "incoming-forest",
   "metadata": {},
   "outputs": [],
   "source": []
  }
 ],
 "metadata": {
  "kernelspec": {
   "display_name": "Python 3",
   "language": "python",
   "name": "python3"
  },
  "language_info": {
   "codemirror_mode": {
    "name": "ipython",
    "version": 3
   },
   "file_extension": ".py",
   "mimetype": "text/x-python",
   "name": "python",
   "nbconvert_exporter": "python",
   "pygments_lexer": "ipython3",
   "version": "3.7.9"
  }
 },
 "nbformat": 4,
 "nbformat_minor": 5
}
