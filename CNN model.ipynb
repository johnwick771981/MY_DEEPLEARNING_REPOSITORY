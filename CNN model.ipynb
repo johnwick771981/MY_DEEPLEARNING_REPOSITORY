{
 "cells": [
  {
   "cell_type": "code",
   "execution_count": 1,
   "id": "suspected-radar",
   "metadata": {},
   "outputs": [],
   "source": [
    "import numpy as np\n",
    "import pandas as pd\n",
    "import matplotlib.pyplot as plt\n",
    "import matplotlib as mlp"
   ]
  },
  {
   "cell_type": "code",
   "execution_count": 2,
   "id": "exact-gospel",
   "metadata": {},
   "outputs": [],
   "source": [
    "import tensorflow as tf\n",
    "from tensorflow import keras"
   ]
  },
  {
   "cell_type": "code",
   "execution_count": 3,
   "id": "polyphonic-subcommittee",
   "metadata": {},
   "outputs": [],
   "source": [
    "fashion_mnist = keras.datasets.fashion_mnist"
   ]
  },
  {
   "cell_type": "code",
   "execution_count": 4,
   "id": "fresh-railway",
   "metadata": {},
   "outputs": [],
   "source": [
    "(X_train_full , y_train_full) , (X_test , y_test) = fashion_mnist.load_data()"
   ]
  },
  {
   "cell_type": "code",
   "execution_count": 5,
   "id": "nominated-editing",
   "metadata": {},
   "outputs": [],
   "source": [
    "X_train_full = X_train_full.reshape(60000,28,28,1)\n",
    "X_test=X_test.reshape(10000,28,28,1)"
   ]
  },
  {
   "cell_type": "code",
   "execution_count": 6,
   "id": "rocky-necklace",
   "metadata": {},
   "outputs": [],
   "source": [
    "X_train_n=X_train_full/255.\n",
    "X_test_n=X_test/255."
   ]
  },
  {
   "cell_type": "code",
   "execution_count": 7,
   "id": "blond-rouge",
   "metadata": {},
   "outputs": [],
   "source": [
    "X_valid , X_train =X_train_n[:5000] , X_train_n[5000:]\n",
    "y_valid , y_train = y_train_full[:5000] , y_train_full[5000:]\n",
    "X_test = X_test_n"
   ]
  },
  {
   "cell_type": "code",
   "execution_count": 9,
   "id": "eligible-press",
   "metadata": {},
   "outputs": [],
   "source": [
    "np.random.seed(42)\n",
    "tf.random.set_seed(42)"
   ]
  },
  {
   "cell_type": "code",
   "execution_count": 10,
   "id": "level-mistress",
   "metadata": {},
   "outputs": [],
   "source": [
    "model = keras.models.Sequential()\n",
    "model.add(keras.layers.Conv2D(filters=32,kernel_size=(3,3),strides=1,padding=\"valid\",activation=\"relu\",input_shape=(28,28,1)))\n",
    "model.add(keras.layers.MaxPooling2D((2,2)))\n",
    "model.add(keras.layers.Flatten())\n",
    "model.add(keras.layers.Dense(300,activation=\"relu\"))\n",
    "model.add(keras.layers.Dense(100,activation=\"relu\"))\n",
    "model.add(keras.layers.Dense(10,activation=\"softmax\"))"
   ]
  },
  {
   "cell_type": "code",
   "execution_count": 11,
   "id": "behind-sleep",
   "metadata": {},
   "outputs": [
    {
     "name": "stdout",
     "output_type": "stream",
     "text": [
      "Model: \"sequential\"\n",
      "_________________________________________________________________\n",
      "Layer (type)                 Output Shape              Param #   \n",
      "=================================================================\n",
      "conv2d (Conv2D)              (None, 26, 26, 32)        320       \n",
      "_________________________________________________________________\n",
      "max_pooling2d (MaxPooling2D) (None, 13, 13, 32)        0         \n",
      "_________________________________________________________________\n",
      "flatten (Flatten)            (None, 5408)              0         \n",
      "_________________________________________________________________\n",
      "dense (Dense)                (None, 300)               1622700   \n",
      "_________________________________________________________________\n",
      "dense_1 (Dense)              (None, 100)               30100     \n",
      "_________________________________________________________________\n",
      "dense_2 (Dense)              (None, 10)                1010      \n",
      "=================================================================\n",
      "Total params: 1,654,130\n",
      "Trainable params: 1,654,130\n",
      "Non-trainable params: 0\n",
      "_________________________________________________________________\n"
     ]
    }
   ],
   "source": [
    "model.summary()"
   ]
  },
  {
   "cell_type": "code",
   "execution_count": 14,
   "id": "incredible-enemy",
   "metadata": {},
   "outputs": [],
   "source": [
    "model.compile(loss=\"sparse_categorical_crossentropy\",optimizer=\"sgd\",metrics=[\"accuracy\"])"
   ]
  },
  {
   "cell_type": "code",
   "execution_count": 15,
   "id": "provincial-sarah",
   "metadata": {},
   "outputs": [
    {
     "name": "stdout",
     "output_type": "stream",
     "text": [
      "Epoch 1/30\n",
      "860/860 [==============================] - 28s 33ms/step - loss: 0.8775 - accuracy: 0.6987 - val_loss: 0.7581 - val_accuracy: 0.7340\n",
      "Epoch 2/30\n",
      "860/860 [==============================] - 28s 33ms/step - loss: 0.5389 - accuracy: 0.8049 - val_loss: 0.4946 - val_accuracy: 0.8162\n",
      "Epoch 3/30\n",
      "860/860 [==============================] - 28s 32ms/step - loss: 0.4812 - accuracy: 0.8261 - val_loss: 0.9108 - val_accuracy: 0.7126\n",
      "Epoch 4/30\n",
      "860/860 [==============================] - 28s 32ms/step - loss: 0.4438 - accuracy: 0.8415 - val_loss: 0.4131 - val_accuracy: 0.8568\n",
      "Epoch 5/30\n",
      "860/860 [==============================] - 28s 32ms/step - loss: 0.4197 - accuracy: 0.8499 - val_loss: 0.4364 - val_accuracy: 0.8480\n",
      "Epoch 6/30\n",
      "860/860 [==============================] - 28s 32ms/step - loss: 0.3957 - accuracy: 0.8581 - val_loss: 0.3770 - val_accuracy: 0.8716\n",
      "Epoch 7/30\n",
      "860/860 [==============================] - 28s 33ms/step - loss: 0.3781 - accuracy: 0.8662 - val_loss: 0.4068 - val_accuracy: 0.8552\n",
      "Epoch 8/30\n",
      "860/860 [==============================] - 28s 32ms/step - loss: 0.3631 - accuracy: 0.8695 - val_loss: 0.5013 - val_accuracy: 0.8152\n",
      "Epoch 9/30\n",
      "860/860 [==============================] - 28s 32ms/step - loss: 0.3489 - accuracy: 0.8738 - val_loss: 0.3719 - val_accuracy: 0.8662\n",
      "Epoch 10/30\n",
      "860/860 [==============================] - 28s 32ms/step - loss: 0.3369 - accuracy: 0.8785 - val_loss: 0.3821 - val_accuracy: 0.8604\n",
      "Epoch 11/30\n",
      "860/860 [==============================] - 27s 32ms/step - loss: 0.3246 - accuracy: 0.8820 - val_loss: 0.3415 - val_accuracy: 0.8778\n",
      "Epoch 12/30\n",
      "860/860 [==============================] - 27s 32ms/step - loss: 0.3133 - accuracy: 0.8863 - val_loss: 0.3224 - val_accuracy: 0.8876\n",
      "Epoch 13/30\n",
      "860/860 [==============================] - 27s 32ms/step - loss: 0.3061 - accuracy: 0.8890 - val_loss: 0.3319 - val_accuracy: 0.8860\n",
      "Epoch 14/30\n",
      "860/860 [==============================] - 27s 32ms/step - loss: 0.2974 - accuracy: 0.8914 - val_loss: 0.3856 - val_accuracy: 0.8584\n",
      "Epoch 15/30\n",
      "860/860 [==============================] - 28s 32ms/step - loss: 0.2895 - accuracy: 0.8954 - val_loss: 0.3841 - val_accuracy: 0.8598\n",
      "Epoch 16/30\n",
      "860/860 [==============================] - 27s 32ms/step - loss: 0.2831 - accuracy: 0.8974 - val_loss: 0.2953 - val_accuracy: 0.8950\n",
      "Epoch 17/30\n",
      "860/860 [==============================] - 27s 32ms/step - loss: 0.2755 - accuracy: 0.8999 - val_loss: 0.4066 - val_accuracy: 0.8596\n",
      "Epoch 18/30\n",
      "860/860 [==============================] - 27s 32ms/step - loss: 0.2701 - accuracy: 0.9011 - val_loss: 0.3495 - val_accuracy: 0.8748\n",
      "Epoch 19/30\n",
      "860/860 [==============================] - 28s 33ms/step - loss: 0.2639 - accuracy: 0.9038 - val_loss: 0.3074 - val_accuracy: 0.8904\n",
      "Epoch 20/30\n",
      "860/860 [==============================] - 29s 34ms/step - loss: 0.2583 - accuracy: 0.9057 - val_loss: 0.3250 - val_accuracy: 0.8842\n",
      "Epoch 21/30\n",
      "860/860 [==============================] - 28s 33ms/step - loss: 0.2526 - accuracy: 0.9084 - val_loss: 0.2830 - val_accuracy: 0.9002\n",
      "Epoch 22/30\n",
      "860/860 [==============================] - 27s 32ms/step - loss: 0.2472 - accuracy: 0.9094 - val_loss: 0.2861 - val_accuracy: 0.8970\n",
      "Epoch 23/30\n",
      "860/860 [==============================] - 27s 32ms/step - loss: 0.2418 - accuracy: 0.9109 - val_loss: 0.2783 - val_accuracy: 0.9030\n",
      "Epoch 24/30\n",
      "860/860 [==============================] - 27s 32ms/step - loss: 0.2367 - accuracy: 0.9129 - val_loss: 0.2997 - val_accuracy: 0.8908\n",
      "Epoch 25/30\n",
      "860/860 [==============================] - 27s 32ms/step - loss: 0.2323 - accuracy: 0.9157 - val_loss: 0.2895 - val_accuracy: 0.8966\n",
      "Epoch 26/30\n",
      "860/860 [==============================] - 27s 31ms/step - loss: 0.2285 - accuracy: 0.9157 - val_loss: 0.2775 - val_accuracy: 0.9030\n",
      "Epoch 27/30\n",
      "860/860 [==============================] - 27s 31ms/step - loss: 0.2244 - accuracy: 0.9183 - val_loss: 0.2703 - val_accuracy: 0.9014\n",
      "Epoch 28/30\n",
      "860/860 [==============================] - 26s 30ms/step - loss: 0.2197 - accuracy: 0.9191 - val_loss: 0.3066 - val_accuracy: 0.8910\n",
      "Epoch 29/30\n",
      "860/860 [==============================] - 27s 32ms/step - loss: 0.2145 - accuracy: 0.9214 - val_loss: 0.2715 - val_accuracy: 0.9034\n",
      "Epoch 30/30\n",
      "860/860 [==============================] - 28s 32ms/step - loss: 0.2115 - accuracy: 0.9218 - val_loss: 0.2706 - val_accuracy: 0.9054\n"
     ]
    }
   ],
   "source": [
    "model_history = model.fit(X_train , y_train , epochs=30 , batch_size=64 , validation_data=(X_valid ,y_valid))"
   ]
  },
  {
   "cell_type": "code",
   "execution_count": 16,
   "id": "downtown-steam",
   "metadata": {},
   "outputs": [
    {
     "data": {
      "image/png": "[encoded data removed]",
      "text/plain": [
       "<Figure size 576x360 with 1 Axes>"
      ]
     },
     "metadata": {
      "needs_background": "light"
     },
     "output_type": "display_data"
    }
   ],
   "source": [
    "pd.DataFrame(model_history.history).plot(figsize=(8,5))\n",
    "plt.grid(True)\n",
    "plt.gca().set_ylim(0,1)\n",
    "plt.show()"
   ]
  },
  {
   "cell_type": "code",
   "execution_count": 17,
   "id": "familiar-antibody",
   "metadata": {},
   "outputs": [
    {
     "name": "stdout",
     "output_type": "stream",
     "text": [
      "313/313 [==============================] - 2s 7ms/step - loss: 0.2800 - accuracy: 0.8997\n"
     ]
    }
   ],
   "source": [
    "ev=model.evaluate(X_test_n , y_test)"
   ]
  },
  {
   "cell_type": "code",
   "execution_count": 18,
   "id": "compound-lending",
   "metadata": {},
   "outputs": [
    {
     "data": {
      "text/plain": [
       "[0.2799721360206604, 0.8996999859809875]"
      ]
     },
     "execution_count": 18,
     "metadata": {},
     "output_type": "execute_result"
    }
   ],
   "source": [
    "ev"
   ]
  },
  {
   "cell_type": "code",
   "execution_count": 19,
   "id": "threaded-michael",
   "metadata": {},
   "outputs": [],
   "source": [
    "X_new=X_test[:3]"
   ]
  },
  {
   "cell_type": "code",
   "execution_count": 20,
   "id": "unlimited-allen",
   "metadata": {},
   "outputs": [
    {
     "name": "stdout",
     "output_type": "stream",
     "text": [
      "WARNING:tensorflow:From <ipython-input-20-3306f3af3b8e>:1: Sequential.predict_classes (from tensorflow.python.keras.engine.sequential) is deprecated and will be removed after 2021-01-01.\n",
      "Instructions for updating:\n",
      "Please use instead:* `np.argmax(model.predict(x), axis=-1)`,   if your model does multi-class classification   (e.g. if it uses a `softmax` last-layer activation).* `(model.predict(x) > 0.5).astype(\"int32\")`,   if your model does binary classification   (e.g. if it uses a `sigmoid` last-layer activation).\n"
     ]
    },
    {
     "data": {
      "text/plain": [
       "array([9, 2, 1], dtype=int64)"
      ]
     },
     "execution_count": 20,
     "metadata": {},
     "output_type": "execute_result"
    }
   ],
   "source": [
    "y_pred=model.predict_classes(X_new)\n",
    "y_pred"
   ]
  },
  {
   "cell_type": "code",
   "execution_count": 21,
   "id": "appointed-shoot",
   "metadata": {},
   "outputs": [
    {
     "data": {
      "text/plain": [
       "array([9, 2, 1], dtype=uint8)"
      ]
     },
     "execution_count": 21,
     "metadata": {},
     "output_type": "execute_result"
    }
   ],
   "source": [
    "y_test[:3]"
   ]
  },
  {
   "cell_type": "code",
   "execution_count": 22,
   "id": "supreme-convertible",
   "metadata": {},
   "outputs": [
    {
     "name": "stdout",
     "output_type": "stream",
     "text": [
      "AxesImage(54,36;334.8x217.44)\n"
     ]
    },
    {
     "data": {
      "image/png": "[encoded data removed]",
      "text/plain": [
       "<Figure size 432x288 with 1 Axes>"
      ]
     },
     "metadata": {
      "needs_background": "light"
     },
     "output_type": "display_data"
    }
   ],
   "source": [
    "print(plt.imshow(X_test[0].reshape((28,28))))"
   ]
  },
  {
   "cell_type": "markdown",
   "id": "specified-torture",
   "metadata": {},
   "source": [
    "#  WITHOUT POOLING"
   ]
  },
  {
   "cell_type": "code",
   "execution_count": 25,
   "id": "organized-irish",
   "metadata": {},
   "outputs": [],
   "source": [
    "model2 = keras.models.Sequential()\n",
    "model2.add(keras.layers.Conv2D(filters=32,kernel_size=(3,3),strides=1,padding=\"valid\",activation=\"relu\",input_shape=(28,28,1)))\n",
    "model2.add(keras.layers.Flatten())\n",
    "model2.add(keras.layers.Dense(300,activation=\"relu\"))\n",
    "model2.add(keras.layers.Dense(100,activation=\"relu\"))\n",
    "model2.add(keras.layers.Dense(10,activation=\"softmax\"))"
   ]
  },
  {
   "cell_type": "code",
   "execution_count": 26,
   "id": "homeless-jesus",
   "metadata": {},
   "outputs": [
    {
     "name": "stdout",
     "output_type": "stream",
     "text": [
      "Model: \"sequential_2\"\n",
      "_________________________________________________________________\n",
      "Layer (type)                 Output Shape              Param #   \n",
      "=================================================================\n",
      "conv2d_2 (Conv2D)            (None, 26, 26, 32)        320       \n",
      "_________________________________________________________________\n",
      "flatten_2 (Flatten)          (None, 21632)             0         \n",
      "_________________________________________________________________\n",
      "dense_6 (Dense)              (None, 300)               6489900   \n",
      "_________________________________________________________________\n",
      "dense_7 (Dense)              (None, 100)               30100     \n",
      "_________________________________________________________________\n",
      "dense_8 (Dense)              (None, 10)                1010      \n",
      "=================================================================\n",
      "Total params: 6,521,330\n",
      "Trainable params: 6,521,330\n",
      "Non-trainable params: 0\n",
      "_________________________________________________________________\n"
     ]
    }
   ],
   "source": [
    "model2.summary()"
   ]
  },
  {
   "cell_type": "code",
   "execution_count": 27,
   "id": "living-equilibrium",
   "metadata": {},
   "outputs": [],
   "source": [
    "model2.compile(loss=\"sparse_categorical_crossentropy\",optimizer=\"sgd\",metrics=[\"accuracy\"])"
   ]
  },
  {
   "cell_type": "code",
   "execution_count": 28,
   "id": "fixed-tonight",
   "metadata": {},
   "outputs": [
    {
     "name": "stdout",
     "output_type": "stream",
     "text": [
      "Epoch 1/30\n",
      "860/860 [==============================] - 48s 56ms/step - loss: 0.7397 - accuracy: 0.7457 - val_loss: 0.7132 - val_accuracy: 0.7544\n",
      "Epoch 2/30\n",
      "860/860 [==============================] - 48s 55ms/step - loss: 0.4945 - accuracy: 0.8220 - val_loss: 0.4671 - val_accuracy: 0.8224\n",
      "Epoch 3/30\n",
      "860/860 [==============================] - 47s 55ms/step - loss: 0.4427 - accuracy: 0.8396 - val_loss: 1.0191 - val_accuracy: 0.6936\n",
      "Epoch 4/30\n",
      "860/860 [==============================] - 47s 55ms/step - loss: 0.4100 - accuracy: 0.8522 - val_loss: 0.3891 - val_accuracy: 0.8596\n",
      "Epoch 5/30\n",
      "860/860 [==============================] - 47s 55ms/step - loss: 0.3880 - accuracy: 0.8601 - val_loss: 0.3854 - val_accuracy: 0.8572\n",
      "Epoch 6/30\n",
      "860/860 [==============================] - 48s 55ms/step - loss: 0.3672 - accuracy: 0.8660 - val_loss: 0.3581 - val_accuracy: 0.8714\n",
      "Epoch 7/30\n",
      "860/860 [==============================] - 47s 55ms/step - loss: 0.3535 - accuracy: 0.8716 - val_loss: 0.3934 - val_accuracy: 0.8580\n",
      "Epoch 8/30\n",
      "860/860 [==============================] - 48s 55ms/step - loss: 0.3400 - accuracy: 0.8764 - val_loss: 0.4206 - val_accuracy: 0.8406\n",
      "Epoch 9/30\n",
      "860/860 [==============================] - 47s 55ms/step - loss: 0.3298 - accuracy: 0.8793 - val_loss: 0.3568 - val_accuracy: 0.8644\n",
      "Epoch 10/30\n",
      "860/860 [==============================] - 48s 56ms/step - loss: 0.3196 - accuracy: 0.8836 - val_loss: 0.3874 - val_accuracy: 0.8538\n",
      "Epoch 11/30\n",
      "860/860 [==============================] - 48s 56ms/step - loss: 0.3097 - accuracy: 0.8861 - val_loss: 0.3274 - val_accuracy: 0.8792\n",
      "Epoch 12/30\n",
      "860/860 [==============================] - 48s 56ms/step - loss: 0.3001 - accuracy: 0.8903 - val_loss: 0.3269 - val_accuracy: 0.8834\n",
      "Epoch 13/30\n",
      "860/860 [==============================] - 48s 56ms/step - loss: 0.2927 - accuracy: 0.8930 - val_loss: 0.3425 - val_accuracy: 0.8794\n",
      "Epoch 14/30\n",
      "860/860 [==============================] - 48s 56ms/step - loss: 0.2862 - accuracy: 0.8950 - val_loss: 0.4064 - val_accuracy: 0.8506\n",
      "Epoch 15/30\n",
      "860/860 [==============================] - 48s 56ms/step - loss: 0.2787 - accuracy: 0.8971 - val_loss: 0.3439 - val_accuracy: 0.8742\n",
      "Epoch 16/30\n",
      "860/860 [==============================] - 48s 56ms/step - loss: 0.2716 - accuracy: 0.9004 - val_loss: 0.2877 - val_accuracy: 0.8936\n",
      "Epoch 17/30\n",
      "860/860 [==============================] - 48s 56ms/step - loss: 0.2646 - accuracy: 0.9037 - val_loss: 0.3666 - val_accuracy: 0.8710\n",
      "Epoch 18/30\n",
      "860/860 [==============================] - 49s 57ms/step - loss: 0.2587 - accuracy: 0.9051 - val_loss: 0.3344 - val_accuracy: 0.8848\n",
      "Epoch 19/30\n",
      "860/860 [==============================] - 49s 57ms/step - loss: 0.2525 - accuracy: 0.9086 - val_loss: 0.3146 - val_accuracy: 0.8860\n",
      "Epoch 20/30\n",
      "860/860 [==============================] - 49s 56ms/step - loss: 0.2467 - accuracy: 0.9099 - val_loss: 0.3200 - val_accuracy: 0.8862\n",
      "Epoch 21/30\n",
      "860/860 [==============================] - 48s 56ms/step - loss: 0.2399 - accuracy: 0.9120 - val_loss: 0.2843 - val_accuracy: 0.8940\n",
      "Epoch 22/30\n",
      "860/860 [==============================] - 49s 57ms/step - loss: 0.2339 - accuracy: 0.9142 - val_loss: 0.2836 - val_accuracy: 0.8956\n",
      "Epoch 23/30\n",
      "860/860 [==============================] - 49s 57ms/step - loss: 0.2283 - accuracy: 0.9170 - val_loss: 0.2778 - val_accuracy: 0.9010\n",
      "Epoch 24/30\n",
      "860/860 [==============================] - 49s 58ms/step - loss: 0.2224 - accuracy: 0.9187 - val_loss: 0.2952 - val_accuracy: 0.8916\n",
      "Epoch 25/30\n",
      "860/860 [==============================] - 49s 57ms/step - loss: 0.2174 - accuracy: 0.9208 - val_loss: 0.2836 - val_accuracy: 0.8998\n",
      "Epoch 26/30\n",
      "860/860 [==============================] - 49s 57ms/step - loss: 0.2131 - accuracy: 0.9221 - val_loss: 0.2881 - val_accuracy: 0.8978\n",
      "Epoch 27/30\n",
      "860/860 [==============================] - 50s 58ms/step - loss: 0.2078 - accuracy: 0.9248 - val_loss: 0.2694 - val_accuracy: 0.9014\n",
      "Epoch 28/30\n",
      "860/860 [==============================] - 49s 57ms/step - loss: 0.2025 - accuracy: 0.9260 - val_loss: 0.3071 - val_accuracy: 0.8892\n",
      "Epoch 29/30\n",
      "860/860 [==============================] - 48s 56ms/step - loss: 0.1970 - accuracy: 0.9277 - val_loss: 0.2811 - val_accuracy: 0.8990\n",
      "Epoch 30/30\n",
      "860/860 [==============================] - 48s 56ms/step - loss: 0.1922 - accuracy: 0.9305 - val_loss: 0.2733 - val_accuracy: 0.9028\n"
     ]
    }
   ],
   "source": [
    "model_history = model2.fit(X_train , y_train , epochs=30 , batch_size=64 , validation_data=(X_valid ,y_valid))"
   ]
  }
 ],
 "metadata": {
  "kernelspec": {
   "display_name": "Python 3",
   "language": "python",
   "name": "python3"
  },
  "language_info": {
   "codemirror_mode": {
    "name": "ipython",
    "version": 3
   },
   "file_extension": ".py",
   "mimetype": "text/x-python",
   "name": "python",
   "nbconvert_exporter": "python",
   "pygments_lexer": "ipython3",
   "version": "3.7.9"
  }
 },
 "nbformat": 4,
 "nbformat_minor": 5
}
