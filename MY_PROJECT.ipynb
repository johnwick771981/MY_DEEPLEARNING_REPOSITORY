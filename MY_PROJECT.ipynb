{
 "cells": [
  {
   "cell_type": "code",
   "execution_count": 1,
   "id": "painful-kingdom",
   "metadata": {},
   "outputs": [],
   "source": [
    "import numpy as np\n",
    "import pandas as pd\n",
    "import matplotlib.pyplot as plt\n",
    "import seaborn as sns"
   ]
  },
  {
   "cell_type": "code",
   "execution_count": 2,
   "id": "hired-schema",
   "metadata": {},
   "outputs": [],
   "source": [
    "import tensorflow as tf\n",
    "from tensorflow import keras"
   ]
  },
  {
   "cell_type": "code",
   "execution_count": 3,
   "id": "nuclear-target",
   "metadata": {},
   "outputs": [],
   "source": [
    "train_dir=r\"C:\\Data Files\\Project - Cat and Dogs\\train\"\n",
    "validation_dir=r\"C:\\Data Files\\Project - Cat and Dogs\\validation\"\n",
    "test_dir=r\"C:\\Data Files\\Project - Cat and Dogs\\test\""
   ]
  },
  {
   "cell_type": "markdown",
   "id": "changing-marketplace",
   "metadata": {},
   "source": [
    "# DATA PREPROCESSING"
   ]
  },
  {
   "cell_type": "markdown",
   "id": "asian-character",
   "metadata": {},
   "source": [
    "1. Read the picture files.\n",
    "2. Decode the Jpeg content to RBG grids of pixels.\n",
    "3. Convert these to floating point tensors.\n",
    "4. Rescale the pixel values to the [0,1] interval."
   ]
  },
  {
   "cell_type": "code",
   "execution_count": 4,
   "id": "latest-event",
   "metadata": {},
   "outputs": [],
   "source": [
    "from tensorflow.keras.preprocessing.image import ImageDataGenerator"
   ]
  },
  {
   "cell_type": "code",
   "execution_count": 5,
   "id": "dated-coordinator",
   "metadata": {},
   "outputs": [
    {
     "name": "stdout",
     "output_type": "stream",
     "text": [
      "Found 2000 images belonging to 2 classes.\n",
      "Found 1000 images belonging to 2 classes.\n"
     ]
    }
   ],
   "source": [
    "train_datagen = ImageDataGenerator(rescale=1./255 , \n",
    "                                   rotation_range=40 ,\n",
    "                                   width_shift_range=0.2 ,\n",
    "                                   height_shift_range=0.2 ,\n",
    "                                   shear_range=0.2 , \n",
    "                                   zoom_range=0.2 , \n",
    "                                   horizontal_flip=True)\n",
    "\n",
    "test_datagen = ImageDataGenerator(rescale = 1./255)\n",
    "\n",
    "train_generator = train_datagen.flow_from_directory(train_dir , target_size=(150,150) , batch_size=20 , class_mode=\"binary\")\n",
    "\n",
    "validation_generator = test_datagen.flow_from_directory(validation_dir , target_size=(150,150) , batch_size=20 , class_mode=\"binary\")"
   ]
  },
  {
   "cell_type": "code",
   "execution_count": 7,
   "id": "appreciated-drama",
   "metadata": {},
   "outputs": [
    {
     "name": "stdout",
     "output_type": "stream",
     "text": [
      "Downloading data from https://storage.googleapis.com/tensorflow/keras-applications/vgg16/vgg16_weights_tf_dim_ordering_tf_kernels_notop.h5\n",
      "58892288/58889256 [==============================] - 268s 5us/step\n"
     ]
    }
   ],
   "source": [
    "from tensorflow.keras.applications import VGG16\n",
    "\n",
    "conv_base = VGG16(weights=\"imagenet\" , include_top=False , input_shape = (150,150,3))"
   ]
  },
  {
   "cell_type": "code",
   "execution_count": 9,
   "id": "altered-register",
   "metadata": {},
   "outputs": [
    {
     "name": "stdout",
     "output_type": "stream",
     "text": [
      "Model: \"vgg16\"\n",
      "_________________________________________________________________\n",
      "Layer (type)                 Output Shape              Param #   \n",
      "=================================================================\n",
      "input_1 (InputLayer)         [(None, 150, 150, 3)]     0         \n",
      "_________________________________________________________________\n",
      "block1_conv1 (Conv2D)        (None, 150, 150, 64)      1792      \n",
      "_________________________________________________________________\n",
      "block1_conv2 (Conv2D)        (None, 150, 150, 64)      36928     \n",
      "_________________________________________________________________\n",
      "block1_pool (MaxPooling2D)   (None, 75, 75, 64)        0         \n",
      "_________________________________________________________________\n",
      "block2_conv1 (Conv2D)        (None, 75, 75, 128)       73856     \n",
      "_________________________________________________________________\n",
      "block2_conv2 (Conv2D)        (None, 75, 75, 128)       147584    \n",
      "_________________________________________________________________\n",
      "block2_pool (MaxPooling2D)   (None, 37, 37, 128)       0         \n",
      "_________________________________________________________________\n",
      "block3_conv1 (Conv2D)        (None, 37, 37, 256)       295168    \n",
      "_________________________________________________________________\n",
      "block3_conv2 (Conv2D)        (None, 37, 37, 256)       590080    \n",
      "_________________________________________________________________\n",
      "block3_conv3 (Conv2D)        (None, 37, 37, 256)       590080    \n",
      "_________________________________________________________________\n",
      "block3_pool (MaxPooling2D)   (None, 18, 18, 256)       0         \n",
      "_________________________________________________________________\n",
      "block4_conv1 (Conv2D)        (None, 18, 18, 512)       1180160   \n",
      "_________________________________________________________________\n",
      "block4_conv2 (Conv2D)        (None, 18, 18, 512)       2359808   \n",
      "_________________________________________________________________\n",
      "block4_conv3 (Conv2D)        (None, 18, 18, 512)       2359808   \n",
      "_________________________________________________________________\n",
      "block4_pool (MaxPooling2D)   (None, 9, 9, 512)         0         \n",
      "_________________________________________________________________\n",
      "block5_conv1 (Conv2D)        (None, 9, 9, 512)         2359808   \n",
      "_________________________________________________________________\n",
      "block5_conv2 (Conv2D)        (None, 9, 9, 512)         2359808   \n",
      "_________________________________________________________________\n",
      "block5_conv3 (Conv2D)        (None, 9, 9, 512)         2359808   \n",
      "_________________________________________________________________\n",
      "block5_pool (MaxPooling2D)   (None, 4, 4, 512)         0         \n",
      "=================================================================\n",
      "Total params: 14,714,688\n",
      "Trainable params: 14,714,688\n",
      "Non-trainable params: 0\n",
      "_________________________________________________________________\n"
     ]
    }
   ],
   "source": [
    "conv_base.summary()"
   ]
  },
  {
   "cell_type": "code",
   "execution_count": 8,
   "id": "crude-median",
   "metadata": {},
   "outputs": [],
   "source": [
    "from tensorflow.keras import models\n",
    "from tensorflow.keras import layers"
   ]
  },
  {
   "cell_type": "code",
   "execution_count": 10,
   "id": "changing-gross",
   "metadata": {},
   "outputs": [],
   "source": [
    "model = models.Sequential()\n",
    "model.add(conv_base)\n",
    "model.add(layers.Flatten())\n",
    "model.add(layers.Dense(256,activation=\"relu\"))\n",
    "model.add(layers.Dense(1,activation=\"sigmoid\"))"
   ]
  },
  {
   "cell_type": "code",
   "execution_count": 11,
   "id": "frank-geneva",
   "metadata": {},
   "outputs": [
    {
     "name": "stdout",
     "output_type": "stream",
     "text": [
      "Model: \"sequential\"\n",
      "_________________________________________________________________\n",
      "Layer (type)                 Output Shape              Param #   \n",
      "=================================================================\n",
      "vgg16 (Functional)           (None, 4, 4, 512)         14714688  \n",
      "_________________________________________________________________\n",
      "flatten (Flatten)            (None, 8192)              0         \n",
      "_________________________________________________________________\n",
      "dense (Dense)                (None, 256)               2097408   \n",
      "_________________________________________________________________\n",
      "dense_1 (Dense)              (None, 1)                 257       \n",
      "=================================================================\n",
      "Total params: 16,812,353\n",
      "Trainable params: 16,812,353\n",
      "Non-trainable params: 0\n",
      "_________________________________________________________________\n"
     ]
    }
   ],
   "source": [
    "model.summary()"
   ]
  },
  {
   "cell_type": "code",
   "execution_count": 12,
   "id": "opposed-berkeley",
   "metadata": {},
   "outputs": [],
   "source": [
    "from tensorflow.keras import optimizers\n",
    "\n",
    "model.compile(loss=\"binary_crossentropy\" , optimizer=optimizers.RMSprop(lr=2e-5) , metrics=[\"acc\"])"
   ]
  },
  {
   "cell_type": "code",
   "execution_count": 13,
   "id": "joint-mixer",
   "metadata": {},
   "outputs": [],
   "source": [
    "checkpoint_cb = keras.callbacks.ModelCheckpoint(\"CNN_Project_Model-{epoch:02d}.h5\" , save_best_only=True)"
   ]
  },
  {
   "cell_type": "code",
   "execution_count": 15,
   "id": "signed-conclusion",
   "metadata": {},
   "outputs": [
    {
     "name": "stdout",
     "output_type": "stream",
     "text": [
      "WARNING:tensorflow:From <ipython-input-15-9e516246eabe>:6: Model.fit_generator (from tensorflow.python.keras.engine.training) is deprecated and will be removed in a future version.\n",
      "Instructions for updating:\n",
      "Please use Model.fit, which supports generators.\n",
      "Epoch 1/30\n",
      "100/100 [==============================] - 505s 5s/step - loss: 0.4615 - acc: 0.7690 - val_loss: 0.2098 - val_acc: 0.9090\n",
      "Epoch 2/30\n",
      "100/100 [==============================] - 516s 5s/step - loss: 0.2516 - acc: 0.8960 - val_loss: 0.1050 - val_acc: 0.9620\n",
      "Epoch 3/30\n",
      "100/100 [==============================] - 675s 7s/step - loss: 0.1896 - acc: 0.9195 - val_loss: 0.1380 - val_acc: 0.9500\n",
      "Epoch 4/30\n",
      "100/100 [==============================] - 842s 8s/step - loss: 0.1802 - acc: 0.9280 - val_loss: 0.3136 - val_acc: 0.8900\n",
      "Epoch 5/30\n",
      "100/100 [==============================] - 842s 8s/step - loss: 0.1545 - acc: 0.9380 - val_loss: 0.1487 - val_acc: 0.9370\n",
      "Epoch 6/30\n",
      "100/100 [==============================] - 838s 8s/step - loss: 0.1274 - acc: 0.9470 - val_loss: 0.1133 - val_acc: 0.9570\n",
      "Epoch 7/30\n",
      "100/100 [==============================] - 841s 8s/step - loss: 0.1266 - acc: 0.9505 - val_loss: 0.0708 - val_acc: 0.9700\n",
      "Epoch 8/30\n",
      "100/100 [==============================] - 816s 8s/step - loss: 0.0977 - acc: 0.9610 - val_loss: 0.0952 - val_acc: 0.9640\n",
      "Epoch 9/30\n",
      "100/100 [==============================] - 628s 6s/step - loss: 0.1016 - acc: 0.9610 - val_loss: 0.1880 - val_acc: 0.9270\n",
      "Epoch 10/30\n",
      "100/100 [==============================] - 628s 6s/step - loss: 0.0907 - acc: 0.9625 - val_loss: 0.2893 - val_acc: 0.9080\n",
      "Epoch 11/30\n",
      "100/100 [==============================] - 623s 6s/step - loss: 0.0917 - acc: 0.9650 - val_loss: 0.0998 - val_acc: 0.9660\n",
      "Epoch 12/30\n",
      "100/100 [==============================] - 507s 5s/step - loss: 0.0842 - acc: 0.9675 - val_loss: 0.0874 - val_acc: 0.9700\n",
      "Epoch 13/30\n",
      "100/100 [==============================] - 499s 5s/step - loss: 0.0716 - acc: 0.9755 - val_loss: 0.1587 - val_acc: 0.9590\n",
      "Epoch 14/30\n",
      "100/100 [==============================] - 480s 5s/step - loss: 0.0577 - acc: 0.9775 - val_loss: 0.0970 - val_acc: 0.9720\n",
      "Epoch 15/30\n",
      "100/100 [==============================] - 503s 5s/step - loss: 0.0656 - acc: 0.9810 - val_loss: 0.1076 - val_acc: 0.9730\n",
      "Epoch 16/30\n",
      "100/100 [==============================] - 484s 5s/step - loss: 0.0530 - acc: 0.9800 - val_loss: 0.0928 - val_acc: 0.9690\n",
      "Epoch 17/30\n",
      "100/100 [==============================] - 489s 5s/step - loss: 0.0508 - acc: 0.9805 - val_loss: 0.0890 - val_acc: 0.9750\n",
      "Epoch 18/30\n",
      "100/100 [==============================] - 493s 5s/step - loss: 0.0461 - acc: 0.9830 - val_loss: 0.1334 - val_acc: 0.9660\n",
      "Epoch 19/30\n",
      "100/100 [==============================] - 785s 8s/step - loss: 0.0474 - acc: 0.9820 - val_loss: 0.1229 - val_acc: 0.9700\n",
      "Epoch 20/30\n",
      "100/100 [==============================] - 911s 9s/step - loss: 0.0509 - acc: 0.9845 - val_loss: 0.0807 - val_acc: 0.9750\n",
      "Epoch 21/30\n",
      "100/100 [==============================] - 892s 9s/step - loss: 0.0429 - acc: 0.9820 - val_loss: 0.1434 - val_acc: 0.9660\n",
      "Epoch 22/30\n",
      "100/100 [==============================] - 905s 9s/step - loss: 0.0445 - acc: 0.9825 - val_loss: 0.1000 - val_acc: 0.9720\n",
      "Epoch 23/30\n",
      "100/100 [==============================] - 897s 9s/step - loss: 0.0319 - acc: 0.9880 - val_loss: 0.1299 - val_acc: 0.9730\n",
      "Epoch 24/30\n",
      "100/100 [==============================] - 647s 6s/step - loss: 0.0349 - acc: 0.9900 - val_loss: 0.1432 - val_acc: 0.9750\n",
      "Epoch 25/30\n",
      "100/100 [==============================] - 659s 7s/step - loss: 0.0415 - acc: 0.9870 - val_loss: 0.0979 - val_acc: 0.9770\n",
      "Epoch 26/30\n",
      "100/100 [==============================] - 632s 6s/step - loss: 0.0388 - acc: 0.9840 - val_loss: 0.1347 - val_acc: 0.9700\n",
      "Epoch 27/30\n",
      "100/100 [==============================] - 517s 5s/step - loss: 0.0526 - acc: 0.9880 - val_loss: 0.1013 - val_acc: 0.9760\n",
      "Epoch 28/30\n",
      "100/100 [==============================] - 563s 6s/step - loss: 0.0412 - acc: 0.9820 - val_loss: 0.1031 - val_acc: 0.9700\n",
      "Epoch 29/30\n",
      "100/100 [==============================] - 510s 5s/step - loss: 0.0302 - acc: 0.9890 - val_loss: 0.2223 - val_acc: 0.9560\n",
      "Epoch 30/30\n",
      "100/100 [==============================] - 490s 5s/step - loss: 0.0278 - acc: 0.9915 - val_loss: 0.1205 - val_acc: 0.9780\n"
     ]
    }
   ],
   "source": [
    "history = model.fit_generator(train_generator,\n",
    "                             steps_per_epoch=100,\n",
    "                             epochs=30,\n",
    "                             validation_data = validation_generator,\n",
    "                             validation_steps=50,\n",
    "                             callbacks=[checkpoint_cb])"
   ]
  },
  {
   "cell_type": "code",
   "execution_count": 16,
   "id": "suburban-employer",
   "metadata": {},
   "outputs": [
    {
     "data": {
      "image/png": "[encoded data removed]",
      "text/plain": [
       "<Figure size 576x360 with 1 Axes>"
      ]
     },
     "metadata": {
      "needs_background": "light"
     },
     "output_type": "display_data"
    }
   ],
   "source": [
    "pd.DataFrame(history.history).plot(figsize=(8,5))\n",
    "plt.grid(True)\n",
    "plt.gca().set_ylim(0,1)\n",
    "plt.show()"
   ]
  },
  {
   "cell_type": "code",
   "execution_count": 17,
   "id": "indoor-annotation",
   "metadata": {},
   "outputs": [],
   "source": [
    "hist_df = pd.DataFrame(history.history)"
   ]
  },
  {
   "cell_type": "code",
   "execution_count": 19,
   "id": "polish-career",
   "metadata": {},
   "outputs": [],
   "source": [
    "hist_csv_file = \"history.csv\" \n",
    "with open (hist_csv_file , mode='w') as f:\n",
    "    hist_df.to_csv(f)"
   ]
  },
  {
   "cell_type": "code",
   "execution_count": 20,
   "id": "weekly-mumbai",
   "metadata": {},
   "outputs": [
    {
     "name": "stdout",
     "output_type": "stream",
     "text": [
      "Found 1000 images belonging to 2 classes.\n"
     ]
    }
   ],
   "source": [
    "test_generator = test_datagen.flow_from_directory(test_dir , target_size=(150,150) , batch_size=20 , class_mode=\"binary\")"
   ]
  },
  {
   "cell_type": "code",
   "execution_count": 21,
   "id": "initial-snowboard",
   "metadata": {},
   "outputs": [
    {
     "name": "stdout",
     "output_type": "stream",
     "text": [
      "WARNING:tensorflow:From <ipython-input-21-93d4f0b0fa58>:1: Model.evaluate_generator (from tensorflow.python.keras.engine.training) is deprecated and will be removed in a future version.\n",
      "Instructions for updating:\n",
      "Please use Model.evaluate, which supports generators.\n"
     ]
    },
    {
     "data": {
      "text/plain": [
       "[0.18238511681556702, 0.9679999947547913]"
      ]
     },
     "execution_count": 21,
     "metadata": {},
     "output_type": "execute_result"
    }
   ],
   "source": [
    "model.evaluate_generator(test_generator , steps=50)"
   ]
  },
  {
   "cell_type": "code",
   "execution_count": null,
   "id": "parental-plain",
   "metadata": {},
   "outputs": [],
   "source": []
  }
 ],
 "metadata": {
  "kernelspec": {
   "display_name": "Python 3",
   "language": "python",
   "name": "python3"
  },
  "language_info": {
   "codemirror_mode": {
    "name": "ipython",
    "version": 3
   },
   "file_extension": ".py",
   "mimetype": "text/x-python",
   "name": "python",
   "nbconvert_exporter": "python",
   "pygments_lexer": "ipython3",
   "version": "3.7.9"
  }
 },
 "nbformat": 4,
 "nbformat_minor": 5
}
